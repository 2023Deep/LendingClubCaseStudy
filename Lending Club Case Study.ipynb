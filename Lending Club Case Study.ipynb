{
 "cells": [
  {
   "cell_type": "code",
   "execution_count": null,
   "id": "0e6feb3f",
   "metadata": {},
   "outputs": [],
   "source": [
    "# Provide a brief descriptio of the project and objectives"
   ]
  },
  {
   "cell_type": "code",
   "execution_count": 11,
   "id": "5096b33d",
   "metadata": {},
   "outputs": [],
   "source": [
    "# Importing all the required libraries for our analysis\n",
    "\n",
    "import numpy as np\n",
    "import pandas as pd\n",
    "import matplotlib.pyplot as plt\n",
    "import seaborn as sns\n",
    "\n",
    "# During the analysis avoid unnecessary warning/s because of the version problems\n",
    "\n",
    "import warnings\n",
    "warnings.filterwarnings('ignore')\n",
    "\n",
    "# --- later consider removing these lines of text\n",
    "\n",
    "\n",
    "# # set it to convert scientific values\n",
    "# pd.options.display.float_format = '{:.2f}'.format \n",
    "\n",
    "# # Regular expressions for string manipulation\n",
    "# import re\n",
    "\n",
    "# Ignore warnings due to version problems\n"
   ]
  },
  {
   "cell_type": "code",
   "execution_count": 12,
   "id": "6da2b59c",
   "metadata": {},
   "outputs": [
    {
     "name": "stdout",
     "output_type": "stream",
     "text": [
      "(39717, 111)\n",
      "<class 'pandas.core.frame.DataFrame'>\n",
      "RangeIndex: 39717 entries, 0 to 39716\n",
      "Columns: 111 entries, id to total_il_high_credit_limit\n",
      "dtypes: float64(74), int64(13), object(24)\n",
      "memory usage: 33.6+ MB\n",
      "None\n",
      "id                              int64\n",
      "member_id                       int64\n",
      "loan_amnt                       int64\n",
      "funded_amnt                     int64\n",
      "funded_amnt_inv               float64\n",
      "                               ...   \n",
      "tax_liens                     float64\n",
      "tot_hi_cred_lim               float64\n",
      "total_bal_ex_mort             float64\n",
      "total_bc_limit                float64\n",
      "total_il_high_credit_limit    float64\n",
      "Length: 111, dtype: object\n"
     ]
    }
   ],
   "source": [
    "# Read CSV file and check it's attributes before proceeding further.\n",
    "# Reading CSV file with dtype object. I will draw correlation among few variables not all so when it needs i will just convert \n",
    "# those as per my need for better visibility. So many variables in correlation creates confusion when they don't add much value.\n",
    "\n",
    "loan = pd.read_csv('loan.csv')\n",
    "\n",
    "# check shape & datatype of loan data\n",
    "print(loan.shape)\n",
    "print(loan.info())\n",
    "print(loan.dtypes)"
   ]
  },
  {
   "cell_type": "code",
   "execution_count": null,
   "id": "f3f08adb",
   "metadata": {},
   "outputs": [],
   "source": []
  },
  {
   "cell_type": "code",
   "execution_count": null,
   "id": "120339c3",
   "metadata": {},
   "outputs": [],
   "source": []
  }
 ],
 "metadata": {
  "kernelspec": {
   "display_name": "Python 3 (ipykernel)",
   "language": "python",
   "name": "python3"
  },
  "language_info": {
   "codemirror_mode": {
    "name": "ipython",
    "version": 3
   },
   "file_extension": ".py",
   "mimetype": "text/x-python",
   "name": "python",
   "nbconvert_exporter": "python",
   "pygments_lexer": "ipython3",
   "version": "3.10.9"
  }
 },
 "nbformat": 4,
 "nbformat_minor": 5
}
